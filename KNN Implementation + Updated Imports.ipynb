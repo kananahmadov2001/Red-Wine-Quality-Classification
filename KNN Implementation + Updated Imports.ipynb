{
 "cells": [
  {
   "cell_type": "code",
   "execution_count": 2,
   "id": "bfad1b28",
   "metadata": {},
   "outputs": [],
   "source": [
    "#-----UPDATE IMPORTS WITH THIS:-----\n",
    "import numpy as np\n",
    "import seaborn as sns\n",
    "import matplotlib.pyplot as plt\n",
    "from sklearn.model_selection import train_test_split, GridSearchCV, cross_val_score\n",
    "from sklearn.preprocessing import normalize, StandardScaler, LabelEncoder\n",
    "from sklearn.svm import SVC\n",
    "from sklearn.neural_network import MLPClassifier\n",
    "from sklearn.neighbors import KNeighborsClassifier\n",
    "from sklearn.metrics import (\n",
    "    classification_report,\n",
    "    accuracy_score,\n",
    "    precision_score,\n",
    "    recall_score,\n",
    "    f1_score,\n",
    "    confusion_matrix,\n",
    ")\n",
    "from sklearn.decomposition import PCA\n",
    "import itertools"
   ]
  },
  {
   "cell_type": "code",
   "execution_count": 4,
   "id": "9d70de12",
   "metadata": {},
   "outputs": [
    {
     "ename": "NameError",
     "evalue": "name 'y' is not defined",
     "output_type": "error",
     "traceback": [
      "\u001b[1;31m---------------------------------------------------------------------------\u001b[0m",
      "\u001b[1;31mNameError\u001b[0m                                 Traceback (most recent call last)",
      "Cell \u001b[1;32mIn[4], line 3\u001b[0m\n\u001b[0;32m      1\u001b[0m \u001b[38;5;66;03m#-----KNN IMPLEMENTATION-----\u001b[39;00m\n\u001b[0;32m      2\u001b[0m metrics \u001b[38;5;241m=\u001b[39m [\u001b[38;5;124m\"\u001b[39m\u001b[38;5;124mcityblock\u001b[39m\u001b[38;5;124m\"\u001b[39m,\u001b[38;5;124m\"\u001b[39m\u001b[38;5;124mcosine\u001b[39m\u001b[38;5;124m\"\u001b[39m,\u001b[38;5;124m\"\u001b[39m\u001b[38;5;124meuclidean\u001b[39m\u001b[38;5;124m\"\u001b[39m,\u001b[38;5;124m\"\u001b[39m\u001b[38;5;124ml1\u001b[39m\u001b[38;5;124m\"\u001b[39m,\u001b[38;5;124m\"\u001b[39m\u001b[38;5;124ml2\u001b[39m\u001b[38;5;124m\"\u001b[39m,\u001b[38;5;124m\"\u001b[39m\u001b[38;5;124mmanhattan\u001b[39m\u001b[38;5;124m\"\u001b[39m,\u001b[38;5;124m\"\u001b[39m\u001b[38;5;124mnan_euclidean\u001b[39m\u001b[38;5;124m\"\u001b[39m]\n\u001b[1;32m----> 3\u001b[0m k_values \u001b[38;5;241m=\u001b[39m \u001b[38;5;28mrange\u001b[39m(\u001b[38;5;241m5\u001b[39m,\u001b[38;5;241m2\u001b[39m\u001b[38;5;241m*\u001b[39m\u001b[38;5;28mint\u001b[39m(np\u001b[38;5;241m.\u001b[39mfloor(np\u001b[38;5;241m.\u001b[39msqrt((\u001b[38;5;28mlen\u001b[39m(y))))))\n\u001b[0;32m      5\u001b[0m scaler \u001b[38;5;241m=\u001b[39m StandardScaler()\n\u001b[0;32m      6\u001b[0m S \u001b[38;5;241m=\u001b[39m scaler\u001b[38;5;241m.\u001b[39mfit_transform(X)\n",
      "\u001b[1;31mNameError\u001b[0m: name 'y' is not defined"
     ]
    }
   ],
   "source": [
    "#-----KNN IMPLEMENTATION-----\n",
    "metrics = [\"cityblock\",\"cosine\",\"euclidean\",\"l1\",\"l2\",\"manhattan\",\"nan_euclidean\"]\n",
    "k_values = range(5,2*int(np.floor(np.sqrt((len(y))))))\n",
    "\n",
    "scaler = StandardScaler()\n",
    "S = scaler.fit_transform(X)\n",
    "\n",
    "# Cross validation to determine ideal k value\n",
    "scores = []\n",
    "for k in k_values:\n",
    "        knn = KNeighborsClassifier(n_neighbors=k, weights=\"distance\")\n",
    "        score = cross_val_score(knn, X, y, cv=5)\n",
    "        scores.append(np.mean(score))\n",
    "plt.figure()\n",
    "plt.title(\"Cross Validation of K Value\")\n",
    "plt.xlabel(\"K Value\")\n",
    "plt.ylabel(\"Cross Validation Score\")\n",
    "sns.lineplot(x = k_values, y = scores, marker = 'o')\n",
    "plt.show()\n",
    "best_index = np.argmax(scores)\n",
    "best_k = k_values[best_index]\n",
    "\n",
    "# Cross validation to determine ideal metric function\n",
    "mscores = []\n",
    "for m in metrics:\n",
    "    knn = KNeighborsClassifier(n_neighbors=best_k,metric=m)\n",
    "    score = cross_val_score(knn, X, y, cv=5)\n",
    "    mscores.append(np.mean(score))\n",
    "plt.figure()\n",
    "plt.title(\"Cross Validation of Metric Function\")\n",
    "plt.xlabel(\"Metric\")\n",
    "plt.ylabel(\"Cross Validation Score\")\n",
    "sns.lineplot(x=metrics,y=mscores,marker='o')\n",
    "plt.show()\n",
    "best_index = np.argmax(mscores)\n",
    "best_metric = metrics[best_index]\n",
    "\n",
    "print(\"Best parameters for KNN:\")\n",
    "print(f\"K neighbors: {best_k}, Metric: {best_metric}\")\n",
    "\n",
    "# Run KNN Algorithm with best parameters\n",
    "best_knn = KNeighborsClassifier(n_neighbors=best_k,metric=best_metric, weights=\"distance\")\n",
    "best_knn.fit(X_train, y_train)\n",
    "\n",
    "# Make predictions\n",
    "y_pred_knn = best_knn.predict(X_test)\n",
    "\n",
    "# Classification Report for KNN\n",
    "print(\"Classification Report for KNN:\")\n",
    "print(classification_report(y_test, y_pred_knn, zero_division=0))\n",
    "\n",
    "# Confusion Matrix for KNN\n",
    "conf_matrix_knn = confusion_matrix(y_test, y_pred_knn)\n",
    "plot_confusion_matrix(conf_matrix_knn, classes=[str(c) for c in label_encoder.classes_], title=\"Confusion Matrix for KNN\")"
   ]
  },
  {
   "cell_type": "code",
   "execution_count": null,
   "id": "c159dd56-b8ad-4519-8a5b-6c7dfc679d50",
   "metadata": {},
   "outputs": [],
   "source": []
  }
 ],
 "metadata": {
  "kernelspec": {
   "display_name": "Python 3 (ipykernel)",
   "language": "python",
   "name": "python3"
  },
  "language_info": {
   "codemirror_mode": {
    "name": "ipython",
    "version": 3
   },
   "file_extension": ".py",
   "mimetype": "text/x-python",
   "name": "python",
   "nbconvert_exporter": "python",
   "pygments_lexer": "ipython3",
   "version": "3.12.4"
  }
 },
 "nbformat": 4,
 "nbformat_minor": 5
}
